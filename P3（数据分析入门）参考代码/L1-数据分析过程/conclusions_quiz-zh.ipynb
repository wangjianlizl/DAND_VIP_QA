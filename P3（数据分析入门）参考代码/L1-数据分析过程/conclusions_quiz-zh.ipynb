{
 "cells": [
  {
   "cell_type": "markdown",
   "metadata": {},
   "source": [
    "# 结论推导测试题\n",
    "在下面的空白处探索 `store_data.csv`，回答以下测试题。"
   ]
  },
  {
   "cell_type": "code",
   "execution_count": 1,
   "metadata": {},
   "outputs": [],
   "source": [
    "# 导入并加载数据\n",
    "import pandas as pd\n",
    "import numpy as np\n",
    "store = pd.read_csv('store_data.csv')\n",
    "store['week'] = pd.to_datetime(store['week'])\n"
   ]
  },
  {
   "cell_type": "code",
   "execution_count": 2,
   "metadata": {},
   "outputs": [
    {
     "data": {
      "text/plain": [
       "428795"
      ]
     },
     "execution_count": 2,
     "metadata": {},
     "output_type": "execute_result"
    }
   ],
   "source": [
    "# 最后一个月的总销售额\n",
    "store['month']=store.week.dt.month\n",
    "store[store['month']==12].loc[:,'storeA':'storeE'].values.sum()"
   ]
  },
  {
   "cell_type": "code",
   "execution_count": 3,
   "metadata": {},
   "outputs": [
    {
     "data": {
      "text/html": [
       "<div>\n",
       "<style>\n",
       "    .dataframe thead tr:only-child th {\n",
       "        text-align: right;\n",
       "    }\n",
       "\n",
       "    .dataframe thead th {\n",
       "        text-align: left;\n",
       "    }\n",
       "\n",
       "    .dataframe tbody tr th {\n",
       "        vertical-align: top;\n",
       "    }\n",
       "</style>\n",
       "<table border=\"1\" class=\"dataframe\">\n",
       "  <thead>\n",
       "    <tr style=\"text-align: right;\">\n",
       "      <th></th>\n",
       "      <th>week</th>\n",
       "      <th>storeA</th>\n",
       "      <th>storeB</th>\n",
       "      <th>storeC</th>\n",
       "      <th>storeD</th>\n",
       "      <th>storeE</th>\n",
       "      <th>month</th>\n",
       "    </tr>\n",
       "  </thead>\n",
       "  <tbody>\n",
       "    <tr>\n",
       "      <th>0</th>\n",
       "      <td>2014-05-04</td>\n",
       "      <td>2643</td>\n",
       "      <td>8257</td>\n",
       "      <td>3893</td>\n",
       "      <td>6231</td>\n",
       "      <td>1294</td>\n",
       "      <td>5</td>\n",
       "    </tr>\n",
       "    <tr>\n",
       "      <th>1</th>\n",
       "      <td>2014-05-11</td>\n",
       "      <td>6444</td>\n",
       "      <td>5736</td>\n",
       "      <td>5634</td>\n",
       "      <td>7092</td>\n",
       "      <td>2907</td>\n",
       "      <td>5</td>\n",
       "    </tr>\n",
       "    <tr>\n",
       "      <th>2</th>\n",
       "      <td>2014-05-18</td>\n",
       "      <td>9646</td>\n",
       "      <td>2552</td>\n",
       "      <td>4253</td>\n",
       "      <td>5447</td>\n",
       "      <td>4736</td>\n",
       "      <td>5</td>\n",
       "    </tr>\n",
       "    <tr>\n",
       "      <th>3</th>\n",
       "      <td>2014-05-25</td>\n",
       "      <td>5960</td>\n",
       "      <td>10740</td>\n",
       "      <td>8264</td>\n",
       "      <td>6063</td>\n",
       "      <td>949</td>\n",
       "      <td>5</td>\n",
       "    </tr>\n",
       "    <tr>\n",
       "      <th>4</th>\n",
       "      <td>2014-06-01</td>\n",
       "      <td>7412</td>\n",
       "      <td>7374</td>\n",
       "      <td>3208</td>\n",
       "      <td>3985</td>\n",
       "      <td>3023</td>\n",
       "      <td>6</td>\n",
       "    </tr>\n",
       "  </tbody>\n",
       "</table>\n",
       "</div>"
      ],
      "text/plain": [
       "        week  storeA  storeB  storeC  storeD  storeE  month\n",
       "0 2014-05-04    2643    8257    3893    6231    1294      5\n",
       "1 2014-05-11    6444    5736    5634    7092    2907      5\n",
       "2 2014-05-18    9646    2552    4253    5447    4736      5\n",
       "3 2014-05-25    5960   10740    8264    6063     949      5\n",
       "4 2014-06-01    7412    7374    3208    3985    3023      6"
      ]
     },
     "execution_count": 3,
     "metadata": {},
     "output_type": "execute_result"
    }
   ],
   "source": [
    "# 探索数据\n",
    "store.head()\n",
    "#store.describe()\n"
   ]
  },
  {
   "cell_type": "code",
   "execution_count": 4,
   "metadata": {},
   "outputs": [
    {
     "data": {
      "text/plain": [
       "5115.1450000000004"
      ]
     },
     "execution_count": 4,
     "metadata": {},
     "output_type": "execute_result"
    }
   ],
   "source": [
    "# 平均销售额\n",
    "store.loc[:,'storeA':'storeE'].values.mean()"
   ]
  },
  {
   "cell_type": "code",
   "execution_count": 5,
   "metadata": {},
   "outputs": [
    {
     "name": "stdout",
     "output_type": "stream",
     "text": [
      "         week  storeA  storeB  storeC  storeD  storeE  month\n",
      "97 2016-03-13    2054    1390    5112    5513    2536      3\n"
     ]
    },
    {
     "data": {
      "text/plain": [
       "97    16608\n",
       "dtype: int64"
      ]
     },
     "execution_count": 5,
     "metadata": {},
     "output_type": "execute_result"
    }
   ],
   "source": [
    "# 2016 年 3 月 13 日的销售额\n",
    "print(store[store['week']=='2016-03-13'])\n",
    "store[store['week']=='2016-03-13'].sum(axis=1)\n"
   ]
  },
  {
   "cell_type": "code",
   "execution_count": 6,
   "metadata": {},
   "outputs": [
    {
     "data": {
      "text/html": [
       "<div>\n",
       "<style>\n",
       "    .dataframe thead tr:only-child th {\n",
       "        text-align: right;\n",
       "    }\n",
       "\n",
       "    .dataframe thead th {\n",
       "        text-align: left;\n",
       "    }\n",
       "\n",
       "    .dataframe tbody tr th {\n",
       "        vertical-align: top;\n",
       "    }\n",
       "</style>\n",
       "<table border=\"1\" class=\"dataframe\">\n",
       "  <thead>\n",
       "    <tr style=\"text-align: right;\">\n",
       "      <th></th>\n",
       "      <th>week</th>\n",
       "      <th>storeA</th>\n",
       "      <th>storeB</th>\n",
       "      <th>storeC</th>\n",
       "      <th>storeD</th>\n",
       "      <th>storeE</th>\n",
       "      <th>month</th>\n",
       "    </tr>\n",
       "  </thead>\n",
       "  <tbody>\n",
       "    <tr>\n",
       "      <th>9</th>\n",
       "      <td>2014-07-06</td>\n",
       "      <td>8567</td>\n",
       "      <td>3228</td>\n",
       "      <td>927</td>\n",
       "      <td>3277</td>\n",
       "      <td>168</td>\n",
       "      <td>7</td>\n",
       "    </tr>\n",
       "  </tbody>\n",
       "</table>\n",
       "</div>"
      ],
      "text/plain": [
       "        week  storeA  storeB  storeC  storeD  storeE  month\n",
       "9 2014-07-06    8567    3228     927    3277     168      7"
      ]
     },
     "execution_count": 6,
     "metadata": {},
     "output_type": "execute_result"
    }
   ],
   "source": [
    "# C 店销售额最低的一周\n",
    "store[store['storeC']==store['storeC'].min()]"
   ]
  },
  {
   "cell_type": "code",
   "execution_count": 7,
   "metadata": {},
   "outputs": [
    {
     "data": {
      "text/plain": [
       "1333658"
      ]
     },
     "execution_count": 7,
     "metadata": {},
     "output_type": "execute_result"
    }
   ],
   "source": [
    "# 最近 3 个月的总销售额\n",
    "store[store['month']>9].loc[:,'storeA':'storeE'].values.sum()"
   ]
  },
  {
   "cell_type": "markdown",
   "metadata": {},
   "source": [
    "方法2："
   ]
  },
  {
   "cell_type": "code",
   "execution_count": 9,
   "metadata": {},
   "outputs": [],
   "source": [
    "# 导入并加载数据\n",
    "import pandas as pd\n",
    "df = pd.read_csv('store_data.csv')"
   ]
  },
  {
   "cell_type": "code",
   "execution_count": 10,
   "metadata": {},
   "outputs": [
    {
     "name": "stdout",
     "output_type": "stream",
     "text": [
      "<class 'pandas.core.frame.DataFrame'>\n",
      "RangeIndex: 200 entries, 0 to 199\n",
      "Data columns (total 6 columns):\n",
      "week      200 non-null object\n",
      "storeA    200 non-null int64\n",
      "storeB    200 non-null int64\n",
      "storeC    200 non-null int64\n",
      "storeD    200 non-null int64\n",
      "storeE    200 non-null int64\n",
      "dtypes: int64(5), object(1)\n",
      "memory usage: 9.5+ KB\n"
     ]
    }
   ],
   "source": [
    "# 探索数据\n",
    "df.info()"
   ]
  },
  {
   "cell_type": "code",
   "execution_count": 11,
   "metadata": {},
   "outputs": [
    {
     "data": {
      "text/plain": [
       "count                     200\n",
       "unique                    200\n",
       "top       2015-07-19 00:00:00\n",
       "freq                        1\n",
       "first     2014-05-04 00:00:00\n",
       "last      2018-02-25 00:00:00\n",
       "Name: week, dtype: object"
      ]
     },
     "execution_count": 11,
     "metadata": {},
     "output_type": "execute_result"
    }
   ],
   "source": [
    "df['week'] = pd.to_datetime(df['week'])\n",
    "\n",
    "df['week'].describe()"
   ]
  },
  {
   "cell_type": "code",
   "execution_count": 12,
   "metadata": {},
   "outputs": [
    {
     "data": {
      "text/plain": [
       "'storeA'"
      ]
     },
     "execution_count": 12,
     "metadata": {},
     "output_type": "execute_result"
    }
   ],
   "source": [
    "#上个月的总销售额\n",
    "final_month = pd.Timestamp('2018-02-01')\n",
    "df_final_month = df[df['week'] >= final_month]\n",
    "df_final_month.iloc[:, 1:].sum().argmax()"
   ]
  },
  {
   "cell_type": "code",
   "execution_count": 13,
   "metadata": {},
   "outputs": [
    {
     "data": {
      "text/plain": [
       "'storeB'"
      ]
     },
     "execution_count": 13,
     "metadata": {},
     "output_type": "execute_result"
    }
   ],
   "source": [
    "# 平均销售额\n",
    "df.iloc[:, 1:].mean().argmax()"
   ]
  },
  {
   "cell_type": "code",
   "execution_count": 14,
   "metadata": {},
   "outputs": [
    {
     "data": {
      "text/plain": [
       "'storeD'"
      ]
     },
     "execution_count": 14,
     "metadata": {},
     "output_type": "execute_result"
    }
   ],
   "source": [
    "# 2016 年 3 月 13 日的销售额\n",
    "df_20160313 = df[df['week'] == pd.Timestamp('2016-03-13')]\n",
    "df_20160313.iloc[:, 1:].sum().argmax()"
   ]
  },
  {
   "cell_type": "code",
   "execution_count": 15,
   "metadata": {},
   "outputs": [
    {
     "data": {
      "text/plain": [
       "Timestamp('2014-07-06 00:00:00')"
      ]
     },
     "execution_count": 15,
     "metadata": {},
     "output_type": "execute_result"
    }
   ],
   "source": [
    "# C 店销售额最低的一周\n",
    "df_index = df.set_index('week')\n",
    "df_index['storeC'].argmin()"
   ]
  },
  {
   "cell_type": "code",
   "execution_count": 16,
   "metadata": {},
   "outputs": [
    {
     "data": {
      "text/plain": [
       "'storeA'"
      ]
     },
     "execution_count": 16,
     "metadata": {},
     "output_type": "execute_result"
    }
   ],
   "source": [
    "# 最近 3 个月的总销售额\n",
    "last_3_month = pd.Timestamp('2017-12-01')\n",
    "df_last_3_month = df[df['week'] >= last_3_month]\n",
    "df_last_3_month.iloc[:, 1:].sum().argmax()"
   ]
  }
 ],
 "metadata": {
  "kernelspec": {
   "display_name": "Python 3",
   "language": "python",
   "name": "python3"
  },
  "language_info": {
   "codemirror_mode": {
    "name": "ipython",
    "version": 3
   },
   "file_extension": ".py",
   "mimetype": "text/x-python",
   "name": "python",
   "nbconvert_exporter": "python",
   "pygments_lexer": "ipython3",
   "version": "3.6.3"
  }
 },
 "nbformat": 4,
 "nbformat_minor": 2
}
